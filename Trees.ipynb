{
 "cells": [
  {
   "cell_type": "code",
   "execution_count": 1,
   "metadata": {},
   "outputs": [],
   "source": [
    "class Node:\n",
    "    def __init__(self, val):\n",
    "        self.left = None\n",
    "        self.right = None\n",
    "        self.val = val"
   ]
  },
  {
   "cell_type": "code",
   "execution_count": 2,
   "metadata": {},
   "outputs": [],
   "source": [
    "root = Node('1')\n",
    "\n",
    "root.left = Node('2')\n",
    "\n",
    "root.left.left = Node('3')\n",
    "root.left.left.left = Node('4')\n",
    "root.left.left.right = Node('5')\n",
    "\n",
    "root.left.right = Node('6')\n",
    "root.left.right.left = Node('7')\n",
    "root.left.right.right = Node('8')\n",
    "\n",
    "root.right = Node('9')\n",
    "\n",
    "root.right.left = Node('10')\n",
    "root.right.left.left = Node('11')\n",
    "root.right.left.right = Node('12')\n",
    "\n",
    "root.right.right = Node('13')\n",
    "root.right.right.left = Node('14')\n",
    "root.right.right.right = Node('15')"
   ]
  }
 ],
 "metadata": {
  "kernelspec": {
   "display_name": "Python 3",
   "language": "python",
   "name": "python3"
  },
  "language_info": {
   "codemirror_mode": {
    "name": "ipython",
    "version": 3
   },
   "file_extension": ".py",
   "mimetype": "text/x-python",
   "name": "python",
   "nbconvert_exporter": "python",
   "pygments_lexer": "ipython3",
   "version": "3.7.4"
  }
 },
 "nbformat": 4,
 "nbformat_minor": 2
}
