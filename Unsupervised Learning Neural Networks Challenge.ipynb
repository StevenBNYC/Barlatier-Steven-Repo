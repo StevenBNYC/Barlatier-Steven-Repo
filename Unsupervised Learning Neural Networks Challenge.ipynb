{
 "cells": [
  {
   "cell_type": "code",
   "execution_count": 1,
   "metadata": {
    "run_control": {
     "frozen": false,
     "read_only": false
    }
   },
   "outputs": [],
   "source": [
    "import numpy as np\n",
    "import pandas as pd\n",
    "import matplotlib.pyplot as plt\n",
    "import warnings\n",
    "warnings.filterwarnings(\"ignore\")\n",
    "%matplotlib inline"
   ]
  },
  {
   "cell_type": "code",
   "execution_count": 2,
   "metadata": {
    "run_control": {
     "frozen": false,
     "read_only": false
    }
   },
   "outputs": [],
   "source": [
    "data = pd.read_csv('menu.csv')"
   ]
  },
  {
   "cell_type": "code",
   "execution_count": 3,
   "metadata": {
    "run_control": {
     "frozen": false,
     "read_only": false
    },
    "scrolled": true
   },
   "outputs": [
    {
     "data": {
      "text/plain": [
       "Index(['Category', 'Item', 'Serving Size', 'Calories', 'Calories from Fat',\n",
       "       'Total Fat', 'Total Fat (% Daily Value)', 'Saturated Fat',\n",
       "       'Saturated Fat (% Daily Value)', 'Trans Fat', 'Cholesterol',\n",
       "       'Cholesterol (% Daily Value)', 'Sodium', 'Sodium (% Daily Value)',\n",
       "       'Carbohydrates', 'Carbohydrates (% Daily Value)', 'Dietary Fiber',\n",
       "       'Dietary Fiber (% Daily Value)', 'Sugars', 'Protein',\n",
       "       'Vitamin A (% Daily Value)', 'Vitamin C (% Daily Value)',\n",
       "       'Calcium (% Daily Value)', 'Iron (% Daily Value)'],\n",
       "      dtype='object')"
      ]
     },
     "execution_count": 3,
     "metadata": {},
     "output_type": "execute_result"
    }
   ],
   "source": [
    "data.columns"
   ]
  },
  {
   "cell_type": "markdown",
   "metadata": {
    "run_control": {
     "frozen": false,
     "read_only": false
    }
   },
   "source": [
    "## Cleaning"
   ]
  },
  {
   "cell_type": "code",
   "execution_count": 4,
   "metadata": {
    "run_control": {
     "frozen": false,
     "read_only": false
    },
    "scrolled": true
   },
   "outputs": [
    {
     "data": {
      "text/html": [
       "<div>\n",
       "<style scoped>\n",
       "    .dataframe tbody tr th:only-of-type {\n",
       "        vertical-align: middle;\n",
       "    }\n",
       "\n",
       "    .dataframe tbody tr th {\n",
       "        vertical-align: top;\n",
       "    }\n",
       "\n",
       "    .dataframe thead th {\n",
       "        text-align: right;\n",
       "    }\n",
       "</style>\n",
       "<table border=\"1\" class=\"dataframe\">\n",
       "  <thead>\n",
       "    <tr style=\"text-align: right;\">\n",
       "      <th></th>\n",
       "      <th>Sum</th>\n",
       "      <th>Percentage</th>\n",
       "    </tr>\n",
       "  </thead>\n",
       "  <tbody>\n",
       "    <tr>\n",
       "      <td>Category</td>\n",
       "      <td>0</td>\n",
       "      <td>0.0</td>\n",
       "    </tr>\n",
       "    <tr>\n",
       "      <td>Item</td>\n",
       "      <td>0</td>\n",
       "      <td>0.0</td>\n",
       "    </tr>\n",
       "    <tr>\n",
       "      <td>Serving Size</td>\n",
       "      <td>0</td>\n",
       "      <td>0.0</td>\n",
       "    </tr>\n",
       "    <tr>\n",
       "      <td>Calories</td>\n",
       "      <td>0</td>\n",
       "      <td>0.0</td>\n",
       "    </tr>\n",
       "    <tr>\n",
       "      <td>Calories from Fat</td>\n",
       "      <td>0</td>\n",
       "      <td>0.0</td>\n",
       "    </tr>\n",
       "    <tr>\n",
       "      <td>Total Fat</td>\n",
       "      <td>0</td>\n",
       "      <td>0.0</td>\n",
       "    </tr>\n",
       "    <tr>\n",
       "      <td>Total Fat (% Daily Value)</td>\n",
       "      <td>0</td>\n",
       "      <td>0.0</td>\n",
       "    </tr>\n",
       "    <tr>\n",
       "      <td>Saturated Fat</td>\n",
       "      <td>0</td>\n",
       "      <td>0.0</td>\n",
       "    </tr>\n",
       "    <tr>\n",
       "      <td>Saturated Fat (% Daily Value)</td>\n",
       "      <td>0</td>\n",
       "      <td>0.0</td>\n",
       "    </tr>\n",
       "    <tr>\n",
       "      <td>Trans Fat</td>\n",
       "      <td>0</td>\n",
       "      <td>0.0</td>\n",
       "    </tr>\n",
       "    <tr>\n",
       "      <td>Cholesterol</td>\n",
       "      <td>0</td>\n",
       "      <td>0.0</td>\n",
       "    </tr>\n",
       "    <tr>\n",
       "      <td>Cholesterol (% Daily Value)</td>\n",
       "      <td>0</td>\n",
       "      <td>0.0</td>\n",
       "    </tr>\n",
       "    <tr>\n",
       "      <td>Sodium</td>\n",
       "      <td>0</td>\n",
       "      <td>0.0</td>\n",
       "    </tr>\n",
       "    <tr>\n",
       "      <td>Sodium (% Daily Value)</td>\n",
       "      <td>0</td>\n",
       "      <td>0.0</td>\n",
       "    </tr>\n",
       "    <tr>\n",
       "      <td>Carbohydrates</td>\n",
       "      <td>0</td>\n",
       "      <td>0.0</td>\n",
       "    </tr>\n",
       "    <tr>\n",
       "      <td>Carbohydrates (% Daily Value)</td>\n",
       "      <td>0</td>\n",
       "      <td>0.0</td>\n",
       "    </tr>\n",
       "    <tr>\n",
       "      <td>Dietary Fiber</td>\n",
       "      <td>0</td>\n",
       "      <td>0.0</td>\n",
       "    </tr>\n",
       "    <tr>\n",
       "      <td>Dietary Fiber (% Daily Value)</td>\n",
       "      <td>0</td>\n",
       "      <td>0.0</td>\n",
       "    </tr>\n",
       "    <tr>\n",
       "      <td>Sugars</td>\n",
       "      <td>0</td>\n",
       "      <td>0.0</td>\n",
       "    </tr>\n",
       "    <tr>\n",
       "      <td>Protein</td>\n",
       "      <td>0</td>\n",
       "      <td>0.0</td>\n",
       "    </tr>\n",
       "    <tr>\n",
       "      <td>Vitamin A (% Daily Value)</td>\n",
       "      <td>0</td>\n",
       "      <td>0.0</td>\n",
       "    </tr>\n",
       "    <tr>\n",
       "      <td>Vitamin C (% Daily Value)</td>\n",
       "      <td>0</td>\n",
       "      <td>0.0</td>\n",
       "    </tr>\n",
       "    <tr>\n",
       "      <td>Calcium (% Daily Value)</td>\n",
       "      <td>0</td>\n",
       "      <td>0.0</td>\n",
       "    </tr>\n",
       "    <tr>\n",
       "      <td>Iron (% Daily Value)</td>\n",
       "      <td>0</td>\n",
       "      <td>0.0</td>\n",
       "    </tr>\n",
       "  </tbody>\n",
       "</table>\n",
       "</div>"
      ],
      "text/plain": [
       "                               Sum  Percentage\n",
       "Category                         0         0.0\n",
       "Item                             0         0.0\n",
       "Serving Size                     0         0.0\n",
       "Calories                         0         0.0\n",
       "Calories from Fat                0         0.0\n",
       "Total Fat                        0         0.0\n",
       "Total Fat (% Daily Value)        0         0.0\n",
       "Saturated Fat                    0         0.0\n",
       "Saturated Fat (% Daily Value)    0         0.0\n",
       "Trans Fat                        0         0.0\n",
       "Cholesterol                      0         0.0\n",
       "Cholesterol (% Daily Value)      0         0.0\n",
       "Sodium                           0         0.0\n",
       "Sodium (% Daily Value)           0         0.0\n",
       "Carbohydrates                    0         0.0\n",
       "Carbohydrates (% Daily Value)    0         0.0\n",
       "Dietary Fiber                    0         0.0\n",
       "Dietary Fiber (% Daily Value)    0         0.0\n",
       "Sugars                           0         0.0\n",
       "Protein                          0         0.0\n",
       "Vitamin A (% Daily Value)        0         0.0\n",
       "Vitamin C (% Daily Value)        0         0.0\n",
       "Calcium (% Daily Value)          0         0.0\n",
       "Iron (% Daily Value)             0         0.0"
      ]
     },
     "execution_count": 4,
     "metadata": {},
     "output_type": "execute_result"
    }
   ],
   "source": [
    "Sum = data.isnull().sum()\n",
    "Percentage = (data.isnull().sum()/data.isnull().count()*100)\n",
    "\n",
    "pd.concat([Sum,Percentage], axis =1, keys= ['Sum', 'Percentage'])"
   ]
  },
  {
   "cell_type": "code",
   "execution_count": 5,
   "metadata": {},
   "outputs": [],
   "source": [
    "clean_data = data.drop(['Calories from Fat',\n",
    "                             'Total Fat (% Daily Value)',\n",
    "                             'Saturated Fat (% Daily Value)',\n",
    "                             'Cholesterol (% Daily Value)',\n",
    "                             'Sodium (% Daily Value)',\n",
    "                             'Carbohydrates (% Daily Value)',\n",
    "                             'Dietary Fiber (% Daily Value)'], axis=1)"
   ]
  },
  {
   "cell_type": "code",
   "execution_count": 6,
   "metadata": {},
   "outputs": [],
   "source": [
    "numerics = ['int16', 'int32', 'int64', 'float16', 'float32', 'float64']\n",
    "\n",
    "numericsdata = clean_data.select_dtypes(include=numerics)"
   ]
  },
  {
   "cell_type": "code",
   "execution_count": 7,
   "metadata": {},
   "outputs": [
    {
     "name": "stdout",
     "output_type": "stream",
     "text": [
      "Number of outliers and percentage of it in Calories : 6 and 0.008221092583204307\n",
      "Number of outliers and percentage of it in Total Fat : 4 and 0.005480728388802872\n",
      "Number of outliers and percentage of it in Saturated Fat : 0 and 0.0\n",
      "Number of outliers and percentage of it in Trans Fat : 56 and 0.07673019744324021\n",
      "Number of outliers and percentage of it in Cholesterol : 18 and 0.024663277749612925\n",
      "Number of outliers and percentage of it in Sodium : 5 and 0.00685091048600359\n",
      "Number of outliers and percentage of it in Carbohydrates : 17 and 0.023293095652412204\n",
      "Number of outliers and percentage of it in Dietary Fiber : 0 and 0.0\n",
      "Number of outliers and percentage of it in Sugars : 4 and 0.005480728388802872\n",
      "Number of outliers and percentage of it in Protein : 3 and 0.0041105462916021535\n",
      "Number of outliers and percentage of it in Vitamin A (% Daily Value) : 17 and 0.023293095652412204\n",
      "Number of outliers and percentage of it in Vitamin C (% Daily Value) : 46 and 0.06302837647123302\n",
      "Number of outliers and percentage of it in Calcium (% Daily Value) : 2 and 0.002740364194401436\n",
      "Number of outliers and percentage of it in Iron (% Daily Value) : 2 and 0.002740364194401436\n"
     ]
    }
   ],
   "source": [
    "for variable in numericsdata:\n",
    "    q75, q25 = np.percentile(clean_data[variable], [75 ,25])\n",
    "    iqr = q75 - q25\n",
    "\n",
    "    min_val = q25 - (iqr*1.5)\n",
    "    max_val = q75 + (iqr*1.5)\n",
    "    print(\"Number of outliers and percentage of it in {} : {} and {}\".format(variable,\n",
    "len((np.where((clean_data[variable] > max_val) | \n",
    "(clean_data[variable] < min_val))[0])),len((np.where((clean_data[variable] > max_val) | \n",
    "(clean_data[variable] < min_val))[0]))*100/72983))"
   ]
  },
  {
   "cell_type": "code",
   "execution_count": 8,
   "metadata": {},
   "outputs": [],
   "source": [
    "from scipy.stats.mstats import winsorize"
   ]
  },
  {
   "cell_type": "code",
   "execution_count": 9,
   "metadata": {},
   "outputs": [
    {
     "data": {
      "text/plain": [
       "{'whiskers': [<matplotlib.lines.Line2D at 0x16368893448>,\n",
       "  <matplotlib.lines.Line2D at 0x16368893c88>],\n",
       " 'caps': [<matplotlib.lines.Line2D at 0x16368893d48>,\n",
       "  <matplotlib.lines.Line2D at 0x1636889ed88>],\n",
       " 'boxes': [<matplotlib.lines.Line2D at 0x16367579fc8>],\n",
       " 'medians': [<matplotlib.lines.Line2D at 0x1636889ee48>],\n",
       " 'fliers': [<matplotlib.lines.Line2D at 0x163688a2e88>],\n",
       " 'means': []}"
      ]
     },
     "execution_count": 9,
     "metadata": {},
     "output_type": "execute_result"
    },
    {
     "data": {
      "image/png": "[encoded data removed]",
      "text/plain": [
       "<Figure size 432x288 with 1 Axes>"
      ]
     },
     "metadata": {
      "needs_background": "light"
     },
     "output_type": "display_data"
    }
   ],
   "source": [
    "winsorized_Calories = winsorize(clean_data[\"Calories\"], (0, 0.03))\n",
    "plt.boxplot(winsorized_Calories)"
   ]
  },
  {
   "cell_type": "code",
   "execution_count": 10,
   "metadata": {},
   "outputs": [
    {
     "data": {
      "text/plain": [
       "{'whiskers': [<matplotlib.lines.Line2D at 0x1636990b588>,\n",
       "  <matplotlib.lines.Line2D at 0x1636990bd48>],\n",
       " 'caps': [<matplotlib.lines.Line2D at 0x1636990be08>,\n",
       "  <matplotlib.lines.Line2D at 0x16369910e08>],\n",
       " 'boxes': [<matplotlib.lines.Line2D at 0x163699079c8>],\n",
       " 'medians': [<matplotlib.lines.Line2D at 0x16369910f08>],\n",
       " 'fliers': [<matplotlib.lines.Line2D at 0x16369913f08>],\n",
       " 'means': []}"
      ]
     },
     "execution_count": 10,
     "metadata": {},
     "output_type": "execute_result"
    },
    {
     "data": {
      "image/png": "[encoded data removed]",
      "text/plain": [
       "<Figure size 432x288 with 1 Axes>"
      ]
     },
     "metadata": {
      "needs_background": "light"
     },
     "output_type": "display_data"
    }
   ],
   "source": [
    "winsorized_TotFat = winsorize(clean_data[\"Total Fat\"], (0, 0.02))\n",
    "plt.boxplot(winsorized_TotFat)"
   ]
  },
  {
   "cell_type": "code",
   "execution_count": 11,
   "metadata": {},
   "outputs": [
    {
     "data": {
      "text/plain": [
       "{'whiskers': [<matplotlib.lines.Line2D at 0x16369979f08>,\n",
       "  <matplotlib.lines.Line2D at 0x1636997b908>],\n",
       " 'caps': [<matplotlib.lines.Line2D at 0x1636997bf08>,\n",
       "  <matplotlib.lines.Line2D at 0x1636997bfc8>],\n",
       " 'boxes': [<matplotlib.lines.Line2D at 0x16369979608>],\n",
       " 'medians': [<matplotlib.lines.Line2D at 0x1636994b948>],\n",
       " 'fliers': [<matplotlib.lines.Line2D at 0x16369981988>],\n",
       " 'means': []}"
      ]
     },
     "execution_count": 11,
     "metadata": {},
     "output_type": "execute_result"
    },
    {
     "data": {
      "image/png": "[encoded data removed]",
      "text/plain": [
       "<Figure size 432x288 with 1 Axes>"
      ]
     },
     "metadata": {
      "needs_background": "light"
     },
     "output_type": "display_data"
    }
   ],
   "source": [
    "winsorized_TraFat = winsorize(clean_data[\"Trans Fat\"], (0, 0.23))\n",
    "plt.boxplot(winsorized_TraFat)"
   ]
  },
  {
   "cell_type": "code",
   "execution_count": 12,
   "metadata": {},
   "outputs": [
    {
     "data": {
      "text/plain": [
       "{'whiskers': [<matplotlib.lines.Line2D at 0x163699e6388>,\n",
       "  <matplotlib.lines.Line2D at 0x163699e6b48>],\n",
       " 'caps': [<matplotlib.lines.Line2D at 0x163699e6c48>,\n",
       "  <matplotlib.lines.Line2D at 0x163699e6cc8>],\n",
       " 'boxes': [<matplotlib.lines.Line2D at 0x163699e27c8>],\n",
       " 'medians': [<matplotlib.lines.Line2D at 0x163699ecb48>],\n",
       " 'fliers': [<matplotlib.lines.Line2D at 0x163699f09c8>],\n",
       " 'means': []}"
      ]
     },
     "execution_count": 12,
     "metadata": {},
     "output_type": "execute_result"
    },
    {
     "data": {
      "image/png": "[encoded data removed]",
      "text/plain": [
       "<Figure size 432x288 with 1 Axes>"
      ]
     },
     "metadata": {
      "needs_background": "light"
     },
     "output_type": "display_data"
    }
   ],
   "source": [
    "winsorized_Chol = winsorize(clean_data[\"Cholesterol\"], (0, 0.07))\n",
    "plt.boxplot(winsorized_Chol)"
   ]
  },
  {
   "cell_type": "code",
   "execution_count": 13,
   "metadata": {},
   "outputs": [
    {
     "data": {
      "text/plain": [
       "{'whiskers': [<matplotlib.lines.Line2D at 0x16369a59f48>,\n",
       "  <matplotlib.lines.Line2D at 0x16369a5b948>],\n",
       " 'caps': [<matplotlib.lines.Line2D at 0x16369a5bf88>,\n",
       "  <matplotlib.lines.Line2D at 0x16369a60908>],\n",
       " 'boxes': [<matplotlib.lines.Line2D at 0x16369a59748>],\n",
       " 'medians': [<matplotlib.lines.Line2D at 0x16369a60a08>],\n",
       " 'fliers': [<matplotlib.lines.Line2D at 0x16369a63a08>],\n",
       " 'means': []}"
      ]
     },
     "execution_count": 13,
     "metadata": {},
     "output_type": "execute_result"
    },
    {
     "data": {
      "image/png": "[encoded data removed]",
      "text/plain": [
       "<Figure size 432x288 with 1 Axes>"
      ]
     },
     "metadata": {
      "needs_background": "light"
     },
     "output_type": "display_data"
    }
   ],
   "source": [
    "winsorized_Sod = winsorize(clean_data[\"Sodium\"], (0, 0.02))\n",
    "plt.boxplot(winsorized_Sod)"
   ]
  },
  {
   "cell_type": "code",
   "execution_count": 14,
   "metadata": {},
   "outputs": [
    {
     "data": {
      "text/plain": [
       "{'whiskers': [<matplotlib.lines.Line2D at 0x16369ac6f88>,\n",
       "  <matplotlib.lines.Line2D at 0x16369ac6f08>],\n",
       " 'caps': [<matplotlib.lines.Line2D at 0x16369ac9ec8>,\n",
       "  <matplotlib.lines.Line2D at 0x16369ac9fc8>],\n",
       " 'boxes': [<matplotlib.lines.Line2D at 0x16369ac6608>],\n",
       " 'medians': [<matplotlib.lines.Line2D at 0x16369acde48>],\n",
       " 'fliers': [<matplotlib.lines.Line2D at 0x16369acdf48>],\n",
       " 'means': []}"
      ]
     },
     "execution_count": 14,
     "metadata": {},
     "output_type": "execute_result"
    },
    {
     "data": {
      "image/png": "[encoded data removed]",
      "text/plain": [
       "<Figure size 432x288 with 1 Axes>"
      ]
     },
     "metadata": {
      "needs_background": "light"
     },
     "output_type": "display_data"
    }
   ],
   "source": [
    "winsorized_Carb = winsorize(clean_data[\"Carbohydrates\"], (0, 0.07))\n",
    "plt.boxplot(winsorized_Carb)"
   ]
  },
  {
   "cell_type": "code",
   "execution_count": 15,
   "metadata": {},
   "outputs": [
    {
     "data": {
      "text/plain": [
       "{'whiskers': [<matplotlib.lines.Line2D at 0x16369b309c8>,\n",
       "  <matplotlib.lines.Line2D at 0x16369b30a88>],\n",
       " 'caps': [<matplotlib.lines.Line2D at 0x16369b36948>,\n",
       "  <matplotlib.lines.Line2D at 0x16369b36f88>],\n",
       " 'boxes': [<matplotlib.lines.Line2D at 0x16369b2af88>],\n",
       " 'medians': [<matplotlib.lines.Line2D at 0x16369b398c8>],\n",
       " 'fliers': [<matplotlib.lines.Line2D at 0x16369b39f08>],\n",
       " 'means': []}"
      ]
     },
     "execution_count": 15,
     "metadata": {},
     "output_type": "execute_result"
    },
    {
     "data": {
      "image/png": "[encoded data removed]",
      "text/plain": [
       "<Figure size 432x288 with 1 Axes>"
      ]
     },
     "metadata": {
      "needs_background": "light"
     },
     "output_type": "display_data"
    }
   ],
   "source": [
    "winsorized_Sug = winsorize(clean_data[\"Sugars\"], (0, 0.02))\n",
    "plt.boxplot(winsorized_Sug)"
   ]
  },
  {
   "cell_type": "code",
   "execution_count": 16,
   "metadata": {},
   "outputs": [
    {
     "data": {
      "text/plain": [
       "{'whiskers': [<matplotlib.lines.Line2D at 0x16369b96f48>,\n",
       "  <matplotlib.lines.Line2D at 0x16369b96ec8>],\n",
       " 'caps': [<matplotlib.lines.Line2D at 0x16369b9bf08>,\n",
       "  <matplotlib.lines.Line2D at 0x16369b9be88>],\n",
       " 'boxes': [<matplotlib.lines.Line2D at 0x16369b96448>],\n",
       " 'medians': [<matplotlib.lines.Line2D at 0x16369b9fe88>],\n",
       " 'fliers': [<matplotlib.lines.Line2D at 0x16369b9ff88>],\n",
       " 'means': []}"
      ]
     },
     "execution_count": 16,
     "metadata": {},
     "output_type": "execute_result"
    },
    {
     "data": {
      "image/png": "[encoded data removed]",
      "text/plain": [
       "<Figure size 432x288 with 1 Axes>"
      ]
     },
     "metadata": {
      "needs_background": "light"
     },
     "output_type": "display_data"
    }
   ],
   "source": [
    "winsorized_Pro = winsorize(clean_data[\"Protein\"], (0, 0.02))\n",
    "plt.boxplot(winsorized_Pro)"
   ]
  },
  {
   "cell_type": "code",
   "execution_count": 17,
   "metadata": {},
   "outputs": [
    {
     "data": {
      "text/plain": [
       "{'whiskers': [<matplotlib.lines.Line2D at 0x16369c09f88>,\n",
       "  <matplotlib.lines.Line2D at 0x16369c09f08>],\n",
       " 'caps': [<matplotlib.lines.Line2D at 0x16369c0df48>,\n",
       "  <matplotlib.lines.Line2D at 0x16369c0dec8>],\n",
       " 'boxes': [<matplotlib.lines.Line2D at 0x16369c094c8>],\n",
       " 'medians': [<matplotlib.lines.Line2D at 0x16369c12ec8>],\n",
       " 'fliers': [<matplotlib.lines.Line2D at 0x16369c12fc8>],\n",
       " 'means': []}"
      ]
     },
     "execution_count": 17,
     "metadata": {},
     "output_type": "execute_result"
    },
    {
     "data": {
      "image/png": "[encoded data removed]",
      "text/plain": [
       "<Figure size 432x288 with 1 Axes>"
      ]
     },
     "metadata": {
      "needs_background": "light"
     },
     "output_type": "display_data"
    }
   ],
   "source": [
    "winsorized_VitA = winsorize(clean_data[\"Vitamin A (% Daily Value)\"], (0, 0.07))\n",
    "plt.boxplot(winsorized_VitA)"
   ]
  },
  {
   "cell_type": "code",
   "execution_count": 18,
   "metadata": {},
   "outputs": [
    {
     "data": {
      "text/plain": [
       "{'whiskers': [<matplotlib.lines.Line2D at 0x16369c77408>,\n",
       "  <matplotlib.lines.Line2D at 0x16369c77b88>],\n",
       " 'caps': [<matplotlib.lines.Line2D at 0x16369c77c88>,\n",
       "  <matplotlib.lines.Line2D at 0x16369c7bb08>],\n",
       " 'boxes': [<matplotlib.lines.Line2D at 0x16369c74908>],\n",
       " 'medians': [<matplotlib.lines.Line2D at 0x16369c7bc08>],\n",
       " 'fliers': [<matplotlib.lines.Line2D at 0x16369c7fa88>],\n",
       " 'means': []}"
      ]
     },
     "execution_count": 18,
     "metadata": {},
     "output_type": "execute_result"
    },
    {
     "data": {
      "image/png": "[encoded data removed]",
      "text/plain": [
       "<Figure size 432x288 with 1 Axes>"
      ]
     },
     "metadata": {
      "needs_background": "light"
     },
     "output_type": "display_data"
    }
   ],
   "source": [
    "winsorized_VitC = winsorize(clean_data[\"Vitamin C (% Daily Value)\"], (0, 0.18))\n",
    "plt.boxplot(winsorized_VitC)"
   ]
  },
  {
   "cell_type": "code",
   "execution_count": 19,
   "metadata": {},
   "outputs": [
    {
     "data": {
      "text/plain": [
       "{'whiskers': [<matplotlib.lines.Line2D at 0x16369cdafc8>,\n",
       "  <matplotlib.lines.Line2D at 0x16369cdaf88>],\n",
       " 'caps': [<matplotlib.lines.Line2D at 0x16369cddfc8>,\n",
       "  <matplotlib.lines.Line2D at 0x16369ce29c8>],\n",
       " 'boxes': [<matplotlib.lines.Line2D at 0x16369cda4c8>],\n",
       " 'medians': [<matplotlib.lines.Line2D at 0x16369ce2ac8>],\n",
       " 'fliers': [<matplotlib.lines.Line2D at 0x16369ce7ac8>],\n",
       " 'means': []}"
      ]
     },
     "execution_count": 19,
     "metadata": {},
     "output_type": "execute_result"
    },
    {
     "data": {
      "image/png": "[encoded data removed]",
      "text/plain": [
       "<Figure size 432x288 with 1 Axes>"
      ]
     },
     "metadata": {
      "needs_background": "light"
     },
     "output_type": "display_data"
    }
   ],
   "source": [
    "winsorized_Calcium = winsorize(clean_data[\"Calcium (% Daily Value)\"], (0, 0.01))\n",
    "plt.boxplot(winsorized_Calcium)"
   ]
  },
  {
   "cell_type": "code",
   "execution_count": 20,
   "metadata": {},
   "outputs": [
    {
     "data": {
      "text/plain": [
       "{'whiskers': [<matplotlib.lines.Line2D at 0x16369d4a348>,\n",
       "  <matplotlib.lines.Line2D at 0x16369d4aac8>],\n",
       " 'caps': [<matplotlib.lines.Line2D at 0x16369d4abc8>,\n",
       "  <matplotlib.lines.Line2D at 0x16369d4ea48>],\n",
       " 'boxes': [<matplotlib.lines.Line2D at 0x16369d477c8>],\n",
       " 'medians': [<matplotlib.lines.Line2D at 0x16369d4eb48>],\n",
       " 'fliers': [<matplotlib.lines.Line2D at 0x16369d52b08>],\n",
       " 'means': []}"
      ]
     },
     "execution_count": 20,
     "metadata": {},
     "output_type": "execute_result"
    },
    {
     "data": {
      "image/png": "[encoded data removed]",
      "text/plain": [
       "<Figure size 432x288 with 1 Axes>"
      ]
     },
     "metadata": {
      "needs_background": "light"
     },
     "output_type": "display_data"
    }
   ],
   "source": [
    "winsorized_Iron = winsorize(clean_data[\"Iron (% Daily Value)\"], (0, 0.01))\n",
    "plt.boxplot(winsorized_Iron)"
   ]
  },
  {
   "cell_type": "code",
   "execution_count": 21,
   "metadata": {},
   "outputs": [],
   "source": [
    "clean_data['winsorized_Calories'] = winsorized_Calories\n",
    "clean_data['winsorized_TotFat'] = winsorized_TotFat\n",
    "clean_data['winsorized_TraFat'] = winsorized_TraFat\n",
    "clean_data['winsorized_Chol'] = winsorized_Chol\n",
    "clean_data['winsorized_Sod'] = winsorized_Sod\n",
    "clean_data['winsorized_Carb'] = winsorized_Carb\n",
    "clean_data['winsorized_Sug'] = winsorized_Sug\n",
    "clean_data['winsorized_Pro'] = winsorized_Pro\n",
    "clean_data['winsorized_VitA'] = winsorized_VitA\n",
    "clean_data['winsorized_VitC'] = winsorized_VitC\n",
    "clean_data['winsorized_Calcium'] = winsorized_Calcium\n",
    "clean_data['winsorized_Iron'] = winsorized_Iron"
   ]
  },
  {
   "cell_type": "code",
   "execution_count": 22,
   "metadata": {},
   "outputs": [],
   "source": [
    "clean_data = clean_data.drop(['Calories',\n",
    "                             'Total Fat',\n",
    "                             'Trans Fat',\n",
    "                             'Cholesterol',\n",
    "                             'Sodium',\n",
    "                             'Carbohydrates',\n",
    "                             'Sugars',\n",
    "                             'Protein',\n",
    "                             'Vitamin A (% Daily Value)',\n",
    "                             'Vitamin C (% Daily Value)',\n",
    "                             'Calcium (% Daily Value)',\n",
    "                             'Iron (% Daily Value)',], axis=1)"
   ]
  },
  {
   "cell_type": "code",
   "execution_count": 23,
   "metadata": {},
   "outputs": [],
   "source": [
    "numerics = ['int16', 'int32', 'int64', 'float16', 'float32', 'float64']\n",
    "\n",
    "numericsdata = clean_data.select_dtypes(include=numerics)"
   ]
  },
  {
   "cell_type": "code",
   "execution_count": 24,
   "metadata": {},
   "outputs": [
    {
     "data": {
      "image/png": "[encoded data removed]",
      "text/plain": [
       "<Figure size 1440x1440 with 16 Axes>"
      ]
     },
     "metadata": {
      "needs_background": "light"
     },
     "output_type": "display_data"
    }
   ],
   "source": [
    "numericsdata.hist(figsize=(20,20))\n",
    "plt.show()"
   ]
  },
  {
   "cell_type": "code",
   "execution_count": 25,
   "metadata": {},
   "outputs": [],
   "source": [
    "import seaborn as sns"
   ]
  },
  {
   "cell_type": "code",
   "execution_count": 26,
   "metadata": {},
   "outputs": [
    {
     "data": {
      "text/plain": [
       "<matplotlib.axes._subplots.AxesSubplot at 0x1636a166a88>"
      ]
     },
     "execution_count": 26,
     "metadata": {},
     "output_type": "execute_result"
    },
    {
     "data": {
      "image/png": "[encoded data removed]",
      "text/plain": [
       "<Figure size 432x288 with 2 Axes>"
      ]
     },
     "metadata": {
      "needs_background": "light"
     },
     "output_type": "display_data"
    }
   ],
   "source": [
    "sns.heatmap(numericsdata.corr(), cmap='PiYG')"
   ]
  },
  {
   "cell_type": "code",
   "execution_count": 27,
   "metadata": {},
   "outputs": [
    {
     "name": "stdout",
     "output_type": "stream",
     "text": [
      "Category\n",
      "9\n",
      "Item\n",
      "260\n",
      "Serving Size\n",
      "107\n"
     ]
    }
   ],
   "source": [
    "categorical = clean_data.select_dtypes(include=['object'])\n",
    "for i in categorical:\n",
    "    column = categorical[i]\n",
    "    print(i)\n",
    "    print(column.nunique())"
   ]
  },
  {
   "cell_type": "code",
   "execution_count": 28,
   "metadata": {},
   "outputs": [],
   "source": [
    "clean_data = clean_data.drop(['Item','Serving Size'], axis=1)"
   ]
  },
  {
   "cell_type": "code",
   "execution_count": 29,
   "metadata": {},
   "outputs": [],
   "source": [
    "X = clean_data.drop(['Category'], axis=1)\n",
    "Y = clean_data.Category"
   ]
  },
  {
   "cell_type": "code",
   "execution_count": 30,
   "metadata": {},
   "outputs": [],
   "source": [
    "from sklearn.neural_network import MLPClassifier"
   ]
  },
  {
   "cell_type": "code",
   "execution_count": 31,
   "metadata": {},
   "outputs": [
    {
     "data": {
      "text/plain": [
       "MLPClassifier(activation='relu', alpha=0.0001, batch_size='auto', beta_1=0.9,\n",
       "              beta_2=0.999, early_stopping=False, epsilon=1e-08,\n",
       "              hidden_layer_sizes=(50,), learning_rate='constant',\n",
       "              learning_rate_init=0.001, max_fun=15000, max_iter=200,\n",
       "              momentum=0.9, n_iter_no_change=10, nesterovs_momentum=True,\n",
       "              power_t=0.5, random_state=None, shuffle=True, solver='adam',\n",
       "              tol=0.0001, validation_fraction=0.1, verbose=False,\n",
       "              warm_start=False)"
      ]
     },
     "execution_count": 31,
     "metadata": {},
     "output_type": "execute_result"
    }
   ],
   "source": [
    "mlp = MLPClassifier(hidden_layer_sizes=(50,))\n",
    "mlp.fit(X, Y)"
   ]
  },
  {
   "cell_type": "code",
   "execution_count": 32,
   "metadata": {},
   "outputs": [
    {
     "data": {
      "text/plain": [
       "0.8653846153846154"
      ]
     },
     "execution_count": 32,
     "metadata": {},
     "output_type": "execute_result"
    }
   ],
   "source": [
    "mlp.score(X, Y)"
   ]
  },
  {
   "cell_type": "code",
   "execution_count": 33,
   "metadata": {},
   "outputs": [
    {
     "data": {
      "text/plain": [
       "Coffee & Tea          0.365385\n",
       "Breakfast             0.161538\n",
       "Smoothies & Shakes    0.107692\n",
       "Chicken & Fish        0.103846\n",
       "Beverages             0.103846\n",
       "Beef & Pork           0.057692\n",
       "Snacks & Sides        0.050000\n",
       "Desserts              0.026923\n",
       "Salads                0.023077\n",
       "Name: Category, dtype: float64"
      ]
     },
     "execution_count": 33,
     "metadata": {},
     "output_type": "execute_result"
    }
   ],
   "source": [
    "Y.value_counts()/len(Y)"
   ]
  },
  {
   "cell_type": "code",
   "execution_count": 34,
   "metadata": {},
   "outputs": [
    {
     "data": {
      "text/plain": [
       "array([0.46153846, 0.51923077, 0.65384615, 0.59615385, 0.23076923])"
      ]
     },
     "execution_count": 34,
     "metadata": {},
     "output_type": "execute_result"
    }
   ],
   "source": [
    "from sklearn.model_selection import cross_val_score\n",
    "cross_val_score(mlp, X, Y, cv=5)"
   ]
  },
  {
   "cell_type": "code",
   "execution_count": 35,
   "metadata": {},
   "outputs": [
    {
     "data": {
      "text/plain": [
       "MLPClassifier(activation='relu', alpha=0.0001, batch_size='auto', beta_1=0.9,\n",
       "              beta_2=0.999, early_stopping=False, epsilon=1e-08,\n",
       "              hidden_layer_sizes=(100,), learning_rate='constant',\n",
       "              learning_rate_init=0.001, max_fun=15000, max_iter=200,\n",
       "              momentum=0.9, n_iter_no_change=10, nesterovs_momentum=True,\n",
       "              power_t=0.5, random_state=None, shuffle=True, solver='adam',\n",
       "              tol=0.0001, validation_fraction=0.1, verbose=False,\n",
       "              warm_start=False)"
      ]
     },
     "execution_count": 35,
     "metadata": {},
     "output_type": "execute_result"
    }
   ],
   "source": [
    "mlp = MLPClassifier(hidden_layer_sizes=(100,))\n",
    "mlp.fit(X, Y)"
   ]
  },
  {
   "cell_type": "code",
   "execution_count": 36,
   "metadata": {},
   "outputs": [
    {
     "data": {
      "text/plain": [
       "0.9153846153846154"
      ]
     },
     "execution_count": 36,
     "metadata": {},
     "output_type": "execute_result"
    }
   ],
   "source": [
    "mlp.score(X, Y)"
   ]
  },
  {
   "cell_type": "code",
   "execution_count": 37,
   "metadata": {},
   "outputs": [
    {
     "data": {
      "text/plain": [
       "array([0.46153846, 0.59615385, 0.55769231, 0.48076923, 0.28846154])"
      ]
     },
     "execution_count": 37,
     "metadata": {},
     "output_type": "execute_result"
    }
   ],
   "source": [
    "from sklearn.model_selection import cross_val_score\n",
    "cross_val_score(mlp, X, Y, cv=5)"
   ]
  },
  {
   "cell_type": "code",
   "execution_count": 38,
   "metadata": {},
   "outputs": [
    {
     "data": {
      "text/plain": [
       "MLPClassifier(activation='relu', alpha=0.0001, batch_size='auto', beta_1=0.9,\n",
       "              beta_2=0.999, early_stopping=False, epsilon=1e-08,\n",
       "              hidden_layer_sizes=(150,), learning_rate='constant',\n",
       "              learning_rate_init=0.001, max_fun=15000, max_iter=200,\n",
       "              momentum=0.9, n_iter_no_change=10, nesterovs_momentum=True,\n",
       "              power_t=0.5, random_state=None, shuffle=True, solver='adam',\n",
       "              tol=0.0001, validation_fraction=0.1, verbose=False,\n",
       "              warm_start=False)"
      ]
     },
     "execution_count": 38,
     "metadata": {},
     "output_type": "execute_result"
    }
   ],
   "source": [
    "mlp = MLPClassifier(hidden_layer_sizes=(150,))\n",
    "mlp.fit(X, Y)"
   ]
  },
  {
   "cell_type": "code",
   "execution_count": 39,
   "metadata": {},
   "outputs": [
    {
     "data": {
      "text/plain": [
       "0.8576923076923076"
      ]
     },
     "execution_count": 39,
     "metadata": {},
     "output_type": "execute_result"
    }
   ],
   "source": [
    "mlp.score(X, Y)"
   ]
  },
  {
   "cell_type": "code",
   "execution_count": 40,
   "metadata": {},
   "outputs": [
    {
     "data": {
      "text/plain": [
       "array([0.55769231, 0.59615385, 0.78846154, 0.53846154, 0.34615385])"
      ]
     },
     "execution_count": 40,
     "metadata": {},
     "output_type": "execute_result"
    }
   ],
   "source": [
    "from sklearn.model_selection import cross_val_score\n",
    "cross_val_score(mlp, X, Y, cv=5)"
   ]
  },
  {
   "cell_type": "code",
   "execution_count": 41,
   "metadata": {},
   "outputs": [
    {
     "data": {
      "text/plain": [
       "MLPClassifier(activation='relu', alpha=0.0001, batch_size='auto', beta_1=0.9,\n",
       "              beta_2=0.999, early_stopping=False, epsilon=1e-08,\n",
       "              hidden_layer_sizes=(200,), learning_rate='constant',\n",
       "              learning_rate_init=0.001, max_fun=15000, max_iter=200,\n",
       "              momentum=0.9, n_iter_no_change=10, nesterovs_momentum=True,\n",
       "              power_t=0.5, random_state=None, shuffle=True, solver='adam',\n",
       "              tol=0.0001, validation_fraction=0.1, verbose=False,\n",
       "              warm_start=False)"
      ]
     },
     "execution_count": 41,
     "metadata": {},
     "output_type": "execute_result"
    }
   ],
   "source": [
    "mlp = MLPClassifier(hidden_layer_sizes=(200,))\n",
    "mlp.fit(X, Y)"
   ]
  },
  {
   "cell_type": "code",
   "execution_count": 42,
   "metadata": {},
   "outputs": [
    {
     "data": {
      "text/plain": [
       "0.823076923076923"
      ]
     },
     "execution_count": 42,
     "metadata": {},
     "output_type": "execute_result"
    }
   ],
   "source": [
    "mlp.score(X, Y)"
   ]
  },
  {
   "cell_type": "code",
   "execution_count": 43,
   "metadata": {},
   "outputs": [
    {
     "data": {
      "text/plain": [
       "array([0.30769231, 0.57692308, 0.63461538, 0.5       , 0.40384615])"
      ]
     },
     "execution_count": 43,
     "metadata": {},
     "output_type": "execute_result"
    }
   ],
   "source": [
    "from sklearn.model_selection import cross_val_score\n",
    "cross_val_score(mlp, X, Y, cv=5)"
   ]
  },
  {
   "cell_type": "code",
   "execution_count": 50,
   "metadata": {},
   "outputs": [
    {
     "data": {
      "text/plain": [
       "MLPClassifier(activation='relu', alpha=0.0001, batch_size='auto', beta_1=0.9,\n",
       "              beta_2=0.999, early_stopping=False, epsilon=1e-08,\n",
       "              hidden_layer_sizes=(500,), learning_rate='constant',\n",
       "              learning_rate_init=0.001, max_fun=15000, max_iter=200,\n",
       "              momentum=0.9, n_iter_no_change=10, nesterovs_momentum=True,\n",
       "              power_t=0.5, random_state=None, shuffle=True, solver='adam',\n",
       "              tol=0.0001, validation_fraction=0.1, verbose=False,\n",
       "              warm_start=False)"
      ]
     },
     "execution_count": 50,
     "metadata": {},
     "output_type": "execute_result"
    }
   ],
   "source": [
    "mlp = MLPClassifier(hidden_layer_sizes=(500,))\n",
    "mlp.fit(X, Y)"
   ]
  },
  {
   "cell_type": "code",
   "execution_count": 51,
   "metadata": {},
   "outputs": [
    {
     "data": {
      "text/plain": [
       "0.8615384615384616"
      ]
     },
     "execution_count": 51,
     "metadata": {},
     "output_type": "execute_result"
    }
   ],
   "source": [
    "mlp.score(X, Y)"
   ]
  },
  {
   "cell_type": "code",
   "execution_count": 52,
   "metadata": {},
   "outputs": [
    {
     "data": {
      "text/plain": [
       "array([0.32692308, 0.61538462, 0.61538462, 0.23076923, 0.28846154])"
      ]
     },
     "execution_count": 52,
     "metadata": {},
     "output_type": "execute_result"
    }
   ],
   "source": [
    "from sklearn.model_selection import cross_val_score\n",
    "cross_val_score(mlp, X, Y, cv=5)"
   ]
  }
 ],
 "metadata": {
  "hide_input": false,
  "kernelspec": {
   "display_name": "Python 3",
   "language": "python",
   "name": "python3"
  },
  "language_info": {
   "codemirror_mode": {
    "name": "ipython",
    "version": 3
   },
   "file_extension": ".py",
   "mimetype": "text/x-python",
   "name": "python",
   "nbconvert_exporter": "python",
   "pygments_lexer": "ipython3",
   "version": "3.7.4"
  },
  "toc": {
   "colors": {
    "hover_highlight": "#DAA520",
    "running_highlight": "#FF0000",
    "selected_highlight": "#FFD700"
   },
   "moveMenuLeft": true,
   "nav_menu": {
    "height": "86px",
    "width": "252px"
   },
   "navigate_menu": true,
   "number_sections": true,
   "sideBar": true,
   "threshold": 4,
   "toc_cell": false,
   "toc_section_display": "block",
   "toc_window_display": false
  }
 },
 "nbformat": 4,
 "nbformat_minor": 2
}
