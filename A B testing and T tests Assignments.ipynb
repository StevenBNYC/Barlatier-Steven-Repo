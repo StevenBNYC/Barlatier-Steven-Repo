{
 "cells": [
  {
   "cell_type": "code",
   "execution_count": 1,
   "metadata": {},
   "outputs": [],
   "source": [
    "import numpy as np\n",
    "from statsmodels.stats.weightstats import ttest_ind"
   ]
  },
  {
   "cell_type": "markdown",
   "metadata": {},
   "source": [
    "## Question 1"
   ]
  },
  {
   "cell_type": "code",
   "execution_count": 2,
   "metadata": {},
   "outputs": [
    {
     "name": "stdout",
     "output_type": "stream",
     "text": [
      "(-14.111033439909487, 5.821917054683157e-40, 698.0)\n"
     ]
    }
   ],
   "source": [
    "b = np.random.normal(5,1,200)\n",
    "a = np.random.normal(8,3,500)\n",
    "\n",
    "print(ttest_ind(b, a))"
   ]
  },
  {
   "cell_type": "markdown",
   "metadata": {},
   "source": [
    "## Question 2"
   ]
  },
  {
   "cell_type": "code",
   "execution_count": 3,
   "metadata": {},
   "outputs": [
    {
     "name": "stdout",
     "output_type": "stream",
     "text": [
      "(1.9352960949211284, 0.0532362080240716, 998.0)\n"
     ]
    }
   ],
   "source": [
    "b = np.random.normal(1090,400,900)\n",
    "a = np.random.normal(999,30,100)\n",
    "\n",
    "print(ttest_ind(b, a))"
   ]
  },
  {
   "cell_type": "markdown",
   "metadata": {},
   "source": [
    "## Question 3"
   ]
  },
  {
   "cell_type": "code",
   "execution_count": 4,
   "metadata": {},
   "outputs": [
    {
     "name": "stdout",
     "output_type": "stream",
     "text": [
      "(6.2550743393955655, 4.3907997360444486e-10, 3998.0)\n"
     ]
    }
   ],
   "source": [
    "b = np.random.normal(45,45,2000)\n",
    "a = np.random.normal(40,40,2000)\n",
    "\n",
    "print(ttest_ind(b, a))"
   ]
  }
 ],
 "metadata": {
  "kernelspec": {
   "display_name": "Python 3",
   "language": "python",
   "name": "python3"
  },
  "language_info": {
   "codemirror_mode": {
    "name": "ipython",
    "version": 3
   },
   "file_extension": ".py",
   "mimetype": "text/x-python",
   "name": "python",
   "nbconvert_exporter": "python",
   "pygments_lexer": "ipython3",
   "version": "3.6.5"
  }
 },
 "nbformat": 4,
 "nbformat_minor": 2
}
